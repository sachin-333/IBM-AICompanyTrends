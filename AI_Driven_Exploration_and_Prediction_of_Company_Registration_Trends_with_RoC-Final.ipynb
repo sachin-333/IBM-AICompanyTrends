{
 "cells": [
  {
   "cell_type": "markdown",
   "metadata": {
    "id": "M7Ba_0oNmZHC"
   },
   "source": [
    "# Analysis 1: Dataset Overview"
   ]
  },
  {
   "cell_type": "code",
   "execution_count": 1,
   "metadata": {
    "colab": {
     "base_uri": "https://localhost:8080/",
     "height": 374
    },
    "id": "dlX6iQgtkjWN",
    "outputId": "e5547800-641a-4374-f959-952ce8c7664c"
   },
   "outputs": [],
   "source": [
    "import pandas as pd\n",
    "import numpy as np\n",
    "import matplotlib.pyplot as plt\n",
    "import seaborn as sns"
   ]
  },
  {
   "cell_type": "code",
   "execution_count": 2,
   "metadata": {},
   "outputs": [
    {
     "data": {
      "text/html": [
       "<div>\n",
       "<style scoped>\n",
       "    .dataframe tbody tr th:only-of-type {\n",
       "        vertical-align: middle;\n",
       "    }\n",
       "\n",
       "    .dataframe tbody tr th {\n",
       "        vertical-align: top;\n",
       "    }\n",
       "\n",
       "    .dataframe thead th {\n",
       "        text-align: right;\n",
       "    }\n",
       "</style>\n",
       "<table border=\"1\" class=\"dataframe\">\n",
       "  <thead>\n",
       "    <tr style=\"text-align: right;\">\n",
       "      <th></th>\n",
       "      <th>CORPORATE_IDENTIFICATION_NUMBER</th>\n",
       "      <th>COMPANY_NAME</th>\n",
       "      <th>COMPANY_STATUS</th>\n",
       "      <th>COMPANY_CLASS</th>\n",
       "      <th>COMPANY_CATEGORY</th>\n",
       "      <th>COMPANY_SUB_CATEGORY</th>\n",
       "      <th>DATE_OF_REGISTRATION</th>\n",
       "      <th>REGISTERED_STATE</th>\n",
       "      <th>AUTHORIZED_CAP</th>\n",
       "      <th>PAIDUP_CAPITAL</th>\n",
       "      <th>INDUSTRIAL_CLASS</th>\n",
       "      <th>PRINCIPAL_BUSINESS_ACTIVITY_AS_PER_CIN</th>\n",
       "      <th>REGISTERED_OFFICE_ADDRESS</th>\n",
       "      <th>REGISTRAR_OF_COMPANIES</th>\n",
       "      <th>EMAIL_ADDR</th>\n",
       "      <th>LATEST_YEAR_ANNUAL_RETURN</th>\n",
       "      <th>LATEST_YEAR_FINANCIAL_STATEMENT</th>\n",
       "    </tr>\n",
       "  </thead>\n",
       "  <tbody>\n",
       "    <tr>\n",
       "      <th>0</th>\n",
       "      <td>F00643</td>\n",
       "      <td>HOCHTIEFF AG,</td>\n",
       "      <td>NAEF</td>\n",
       "      <td>NaN</td>\n",
       "      <td>NaN</td>\n",
       "      <td>NaN</td>\n",
       "      <td>01/12/1961</td>\n",
       "      <td>Tamil Nadu</td>\n",
       "      <td>0.0</td>\n",
       "      <td>0.0</td>\n",
       "      <td>NaN</td>\n",
       "      <td>Agriculture &amp; allied</td>\n",
       "      <td>AMBLE SIDE, NO.8(OLD NO.30),3RD FLOOR KHADER N...</td>\n",
       "      <td>ROC燚ELHI</td>\n",
       "      <td>NaN</td>\n",
       "      <td>NaN</td>\n",
       "      <td>NaN</td>\n",
       "    </tr>\n",
       "    <tr>\n",
       "      <th>1</th>\n",
       "      <td>F00721</td>\n",
       "      <td>SUMITOMO CORPORATION (SUMITOMO SHOJI KAISHA LI...</td>\n",
       "      <td>ACTV</td>\n",
       "      <td>NaN</td>\n",
       "      <td>NaN</td>\n",
       "      <td>NaN</td>\n",
       "      <td>NaN</td>\n",
       "      <td>Tamil Nadu</td>\n",
       "      <td>0.0</td>\n",
       "      <td>0.0</td>\n",
       "      <td>NaN</td>\n",
       "      <td>Agriculture &amp; allied</td>\n",
       "      <td>FLAT NO. 6, 1st FLOOR, 113/113ARAMA NAICKEN ST...</td>\n",
       "      <td>ROC燚ELHI</td>\n",
       "      <td>shuchi.chug@asa.in</td>\n",
       "      <td>NaN</td>\n",
       "      <td>NaN</td>\n",
       "    </tr>\n",
       "    <tr>\n",
       "      <th>2</th>\n",
       "      <td>F00892</td>\n",
       "      <td>SRILANKAN AIRLINES LIMITED</td>\n",
       "      <td>ACTV</td>\n",
       "      <td>NaN</td>\n",
       "      <td>NaN</td>\n",
       "      <td>NaN</td>\n",
       "      <td>01/03/1982</td>\n",
       "      <td>Tamil Nadu</td>\n",
       "      <td>0.0</td>\n",
       "      <td>0.0</td>\n",
       "      <td>NaN</td>\n",
       "      <td>Agriculture &amp; allied</td>\n",
       "      <td>SRILANKAN AIRLINES LIMITED, VIJAYA TOWERSNO-4,...</td>\n",
       "      <td>ROC燚ELHI</td>\n",
       "      <td>shree16us@yahoo.com</td>\n",
       "      <td>NaN</td>\n",
       "      <td>NaN</td>\n",
       "    </tr>\n",
       "    <tr>\n",
       "      <th>3</th>\n",
       "      <td>F01208</td>\n",
       "      <td>CALTEX INDIA LIMITED</td>\n",
       "      <td>NAEF</td>\n",
       "      <td>NaN</td>\n",
       "      <td>NaN</td>\n",
       "      <td>NaN</td>\n",
       "      <td>NaN</td>\n",
       "      <td>Tamil Nadu</td>\n",
       "      <td>0.0</td>\n",
       "      <td>0.0</td>\n",
       "      <td>NaN</td>\n",
       "      <td>Agriculture &amp; allied</td>\n",
       "      <td>GOLD CREST 24 55 NORTHUSMAN ROAD T NAGAR</td>\n",
       "      <td>ROC燚ELHI</td>\n",
       "      <td>NaN</td>\n",
       "      <td>NaN</td>\n",
       "      <td>NaN</td>\n",
       "    </tr>\n",
       "    <tr>\n",
       "      <th>4</th>\n",
       "      <td>F01218</td>\n",
       "      <td>GE HEALTHCARE BIO-SCIENCES LIMITED</td>\n",
       "      <td>ACTV</td>\n",
       "      <td>NaN</td>\n",
       "      <td>NaN</td>\n",
       "      <td>NaN</td>\n",
       "      <td>NaN</td>\n",
       "      <td>Tamil Nadu</td>\n",
       "      <td>0.0</td>\n",
       "      <td>0.0</td>\n",
       "      <td>NaN</td>\n",
       "      <td>Agriculture &amp; allied</td>\n",
       "      <td>FF-3 Palani  Centre32 Venkat Naryan Road Nagar</td>\n",
       "      <td>ROC燚ELHI</td>\n",
       "      <td>karthick9999@yahoo.com</td>\n",
       "      <td>NaN</td>\n",
       "      <td>NaN</td>\n",
       "    </tr>\n",
       "    <tr>\n",
       "      <th>...</th>\n",
       "      <td>...</td>\n",
       "      <td>...</td>\n",
       "      <td>...</td>\n",
       "      <td>...</td>\n",
       "      <td>...</td>\n",
       "      <td>...</td>\n",
       "      <td>...</td>\n",
       "      <td>...</td>\n",
       "      <td>...</td>\n",
       "      <td>...</td>\n",
       "      <td>...</td>\n",
       "      <td>...</td>\n",
       "      <td>...</td>\n",
       "      <td>...</td>\n",
       "      <td>...</td>\n",
       "      <td>...</td>\n",
       "      <td>...</td>\n",
       "    </tr>\n",
       "    <tr>\n",
       "      <th>150866</th>\n",
       "      <td>U74997TN2016PTC112556</td>\n",
       "      <td>QUAD42 MEDIA PRIVATE LIMITED</td>\n",
       "      <td>ACTV</td>\n",
       "      <td>Private</td>\n",
       "      <td>Company limited by Shares</td>\n",
       "      <td>Non-govt company</td>\n",
       "      <td>19/09/2016</td>\n",
       "      <td>Tamil Nadu</td>\n",
       "      <td>1000000.0</td>\n",
       "      <td>100000.0</td>\n",
       "      <td>74997</td>\n",
       "      <td>Real estate renting and business activities</td>\n",
       "      <td>Old No.37, New No.5753rd Street, 9th Avenue</td>\n",
       "      <td>ROC燙HENNAI</td>\n",
       "      <td>ezhil@quad42.com</td>\n",
       "      <td>31/03/2019</td>\n",
       "      <td>31/03/2019</td>\n",
       "    </tr>\n",
       "    <tr>\n",
       "      <th>150867</th>\n",
       "      <td>U74997TN2018PTC121491</td>\n",
       "      <td>IYERAATHU FOODS PRIVATE LIMITED</td>\n",
       "      <td>ACTV</td>\n",
       "      <td>Private</td>\n",
       "      <td>Company limited by Shares</td>\n",
       "      <td>Non-govt company</td>\n",
       "      <td>16/03/2018</td>\n",
       "      <td>Tamil Nadu</td>\n",
       "      <td>100000.0</td>\n",
       "      <td>100000.0</td>\n",
       "      <td>74997</td>\n",
       "      <td>Real estate renting and business activities</td>\n",
       "      <td>G-3, G-Block, AKS Garden,11/1, 2nd Street Rama...</td>\n",
       "      <td>ROC燙HENNAI</td>\n",
       "      <td>sneha.creative@gmail.com</td>\n",
       "      <td>NaN</td>\n",
       "      <td>NaN</td>\n",
       "    </tr>\n",
       "    <tr>\n",
       "      <th>150868</th>\n",
       "      <td>U74997TZ2016PTC027802</td>\n",
       "      <td>POLYGAR FARM SOLUTIONS PRIVATE LIMITED</td>\n",
       "      <td>STOF</td>\n",
       "      <td>Private</td>\n",
       "      <td>Company limited by Shares</td>\n",
       "      <td>Non-govt company</td>\n",
       "      <td>20/07/2016</td>\n",
       "      <td>Tamil Nadu</td>\n",
       "      <td>100000.0</td>\n",
       "      <td>20000.0</td>\n",
       "      <td>74997</td>\n",
       "      <td>Real estate renting and business activities</td>\n",
       "      <td>31, LIC Colony (VOC Colony),Kurichi,</td>\n",
       "      <td>ROC燙OIMBATORE</td>\n",
       "      <td>prashanthramana@gmail.com</td>\n",
       "      <td>NaN</td>\n",
       "      <td>NaN</td>\n",
       "    </tr>\n",
       "    <tr>\n",
       "      <th>150869</th>\n",
       "      <td>U74997TZ2018PTC030177</td>\n",
       "      <td>PANDIYA AGRI SOLUTIONS PRIVATE LIMITED</td>\n",
       "      <td>ACTV</td>\n",
       "      <td>Private</td>\n",
       "      <td>Company limited by Shares</td>\n",
       "      <td>Non-govt company</td>\n",
       "      <td>16/03/2018</td>\n",
       "      <td>Tamil Nadu</td>\n",
       "      <td>2500000.0</td>\n",
       "      <td>1500000.0</td>\n",
       "      <td>74997</td>\n",
       "      <td>Real estate renting and business activities</td>\n",
       "      <td>10/10 C3, Venkatasamy StreetRailyway Mens Colo...</td>\n",
       "      <td>ROC燙OIMBATORE</td>\n",
       "      <td>sathishpandiya@gmail.com</td>\n",
       "      <td>31/03/2019</td>\n",
       "      <td>31/03/2019</td>\n",
       "    </tr>\n",
       "    <tr>\n",
       "      <th>150870</th>\n",
       "      <td>U74997TZ2019PTC032491</td>\n",
       "      <td>NROOT TECHNOLOGIES PRIVATE LIMITED</td>\n",
       "      <td>ACTV</td>\n",
       "      <td>Private</td>\n",
       "      <td>Company limited by Shares</td>\n",
       "      <td>Non-govt company</td>\n",
       "      <td>25/07/2019</td>\n",
       "      <td>Tamil Nadu</td>\n",
       "      <td>1500000.0</td>\n",
       "      <td>1100000.0</td>\n",
       "      <td>74997</td>\n",
       "      <td>Real estate renting and business activities</td>\n",
       "      <td>139/1BPUDHUKOTTAI ROAD, MAPILLAI NAYAKKANPATTI</td>\n",
       "      <td>ROC燙OIMBATORE</td>\n",
       "      <td>nroottechnologies@gmail.com</td>\n",
       "      <td>NaN</td>\n",
       "      <td>NaN</td>\n",
       "    </tr>\n",
       "  </tbody>\n",
       "</table>\n",
       "<p>150871 rows × 17 columns</p>\n",
       "</div>"
      ],
      "text/plain": [
       "       CORPORATE_IDENTIFICATION_NUMBER  \\\n",
       "0                               F00643   \n",
       "1                               F00721   \n",
       "2                               F00892   \n",
       "3                               F01208   \n",
       "4                               F01218   \n",
       "...                                ...   \n",
       "150866           U74997TN2016PTC112556   \n",
       "150867           U74997TN2018PTC121491   \n",
       "150868           U74997TZ2016PTC027802   \n",
       "150869           U74997TZ2018PTC030177   \n",
       "150870           U74997TZ2019PTC032491   \n",
       "\n",
       "                                             COMPANY_NAME COMPANY_STATUS  \\\n",
       "0                                        HOCHTIEFF AG,              NAEF   \n",
       "1       SUMITOMO CORPORATION (SUMITOMO SHOJI KAISHA LI...           ACTV   \n",
       "2                           SRILANKAN AIRLINES LIMITED              ACTV   \n",
       "3                                 CALTEX INDIA LIMITED              NAEF   \n",
       "4                   GE HEALTHCARE BIO-SCIENCES LIMITED              ACTV   \n",
       "...                                                   ...            ...   \n",
       "150866                    QUAD42 MEDIA PRIVATE LIMITED              ACTV   \n",
       "150867                 IYERAATHU FOODS PRIVATE LIMITED              ACTV   \n",
       "150868          POLYGAR FARM SOLUTIONS PRIVATE LIMITED              STOF   \n",
       "150869          PANDIYA AGRI SOLUTIONS PRIVATE LIMITED              ACTV   \n",
       "150870              NROOT TECHNOLOGIES PRIVATE LIMITED              ACTV   \n",
       "\n",
       "       COMPANY_CLASS           COMPANY_CATEGORY COMPANY_SUB_CATEGORY  \\\n",
       "0                NaN                        NaN                  NaN   \n",
       "1                NaN                        NaN                  NaN   \n",
       "2                NaN                        NaN                  NaN   \n",
       "3                NaN                        NaN                  NaN   \n",
       "4                NaN                        NaN                  NaN   \n",
       "...              ...                        ...                  ...   \n",
       "150866       Private  Company limited by Shares     Non-govt company   \n",
       "150867       Private  Company limited by Shares     Non-govt company   \n",
       "150868       Private  Company limited by Shares     Non-govt company   \n",
       "150869       Private  Company limited by Shares     Non-govt company   \n",
       "150870       Private  Company limited by Shares     Non-govt company   \n",
       "\n",
       "       DATE_OF_REGISTRATION REGISTERED_STATE  AUTHORIZED_CAP  PAIDUP_CAPITAL  \\\n",
       "0                01/12/1961       Tamil Nadu             0.0             0.0   \n",
       "1                       NaN       Tamil Nadu             0.0             0.0   \n",
       "2                01/03/1982       Tamil Nadu             0.0             0.0   \n",
       "3                       NaN       Tamil Nadu             0.0             0.0   \n",
       "4                       NaN       Tamil Nadu             0.0             0.0   \n",
       "...                     ...              ...             ...             ...   \n",
       "150866           19/09/2016       Tamil Nadu       1000000.0        100000.0   \n",
       "150867           16/03/2018       Tamil Nadu        100000.0        100000.0   \n",
       "150868           20/07/2016       Tamil Nadu        100000.0         20000.0   \n",
       "150869           16/03/2018       Tamil Nadu       2500000.0       1500000.0   \n",
       "150870           25/07/2019       Tamil Nadu       1500000.0       1100000.0   \n",
       "\n",
       "       INDUSTRIAL_CLASS       PRINCIPAL_BUSINESS_ACTIVITY_AS_PER_CIN  \\\n",
       "0                   NaN                         Agriculture & allied   \n",
       "1                   NaN                         Agriculture & allied   \n",
       "2                   NaN                         Agriculture & allied   \n",
       "3                   NaN                         Agriculture & allied   \n",
       "4                   NaN                         Agriculture & allied   \n",
       "...                 ...                                          ...   \n",
       "150866            74997  Real estate renting and business activities   \n",
       "150867            74997  Real estate renting and business activities   \n",
       "150868            74997  Real estate renting and business activities   \n",
       "150869            74997  Real estate renting and business activities   \n",
       "150870            74997  Real estate renting and business activities   \n",
       "\n",
       "                                REGISTERED_OFFICE_ADDRESS  \\\n",
       "0       AMBLE SIDE, NO.8(OLD NO.30),3RD FLOOR KHADER N...   \n",
       "1       FLAT NO. 6, 1st FLOOR, 113/113ARAMA NAICKEN ST...   \n",
       "2       SRILANKAN AIRLINES LIMITED, VIJAYA TOWERSNO-4,...   \n",
       "3              GOLD CREST 24 55 NORTHUSMAN ROAD T NAGAR     \n",
       "4        FF-3 Palani  Centre32 Venkat Naryan Road Nagar     \n",
       "...                                                   ...   \n",
       "150866      Old No.37, New No.5753rd Street, 9th Avenue     \n",
       "150867  G-3, G-Block, AKS Garden,11/1, 2nd Street Rama...   \n",
       "150868             31, LIC Colony (VOC Colony),Kurichi,     \n",
       "150869  10/10 C3, Venkatasamy StreetRailyway Mens Colo...   \n",
       "150870   139/1BPUDHUKOTTAI ROAD, MAPILLAI NAYAKKANPATTI     \n",
       "\n",
       "       REGISTRAR_OF_COMPANIES                   EMAIL_ADDR  \\\n",
       "0                    ROC燚ELHI                          NaN   \n",
       "1                    ROC燚ELHI           shuchi.chug@asa.in   \n",
       "2                    ROC燚ELHI          shree16us@yahoo.com   \n",
       "3                    ROC燚ELHI                          NaN   \n",
       "4                    ROC燚ELHI       karthick9999@yahoo.com   \n",
       "...                       ...                          ...   \n",
       "150866             ROC燙HENNAI             ezhil@quad42.com   \n",
       "150867             ROC燙HENNAI     sneha.creative@gmail.com   \n",
       "150868          ROC燙OIMBATORE    prashanthramana@gmail.com   \n",
       "150869          ROC燙OIMBATORE     sathishpandiya@gmail.com   \n",
       "150870          ROC燙OIMBATORE  nroottechnologies@gmail.com   \n",
       "\n",
       "       LATEST_YEAR_ANNUAL_RETURN LATEST_YEAR_FINANCIAL_STATEMENT  \n",
       "0                            NaN                             NaN  \n",
       "1                            NaN                             NaN  \n",
       "2                            NaN                             NaN  \n",
       "3                            NaN                             NaN  \n",
       "4                            NaN                             NaN  \n",
       "...                          ...                             ...  \n",
       "150866                31/03/2019                      31/03/2019  \n",
       "150867                       NaN                             NaN  \n",
       "150868                       NaN                             NaN  \n",
       "150869                31/03/2019                      31/03/2019  \n",
       "150870                       NaN                             NaN  \n",
       "\n",
       "[150871 rows x 17 columns]"
      ]
     },
     "execution_count": 2,
     "metadata": {},
     "output_type": "execute_result"
    }
   ],
   "source": [
    "# Load the CSV file with specified encoding\n",
    "df = pd.read_csv('/Users/sachinanandharaj/Downloads/Data_Gov_Tamil_Nadu.csv', low_memory=False)\n",
    "df"
   ]
  },
  {
   "cell_type": "markdown",
   "metadata": {
    "id": "cv5RQfrEmjGR"
   },
   "source": [
    "# Analysis 2: Data Cleaning and **Preprocessing**"
   ]
  },
  {
   "cell_type": "code",
   "execution_count": 35,
   "metadata": {
    "id": "6CJKq4OeltaF",
    "scrolled": true
   },
   "outputs": [
    {
     "data": {
      "text/html": [
       "<div>\n",
       "<style scoped>\n",
       "    .dataframe tbody tr th:only-of-type {\n",
       "        vertical-align: middle;\n",
       "    }\n",
       "\n",
       "    .dataframe tbody tr th {\n",
       "        vertical-align: top;\n",
       "    }\n",
       "\n",
       "    .dataframe thead th {\n",
       "        text-align: right;\n",
       "    }\n",
       "</style>\n",
       "<table border=\"1\" class=\"dataframe\">\n",
       "  <thead>\n",
       "    <tr style=\"text-align: right;\">\n",
       "      <th></th>\n",
       "      <th>CORPORATE_IDENTIFICATION_NUMBER</th>\n",
       "      <th>COMPANY_NAME</th>\n",
       "      <th>COMPANY_STATUS</th>\n",
       "      <th>COMPANY_CLASS</th>\n",
       "      <th>COMPANY_CATEGORY</th>\n",
       "      <th>COMPANY_SUB_CATEGORY</th>\n",
       "      <th>DATE_OF_REGISTRATION</th>\n",
       "      <th>REGISTERED_STATE</th>\n",
       "      <th>AUTHORIZED_CAP</th>\n",
       "      <th>PAIDUP_CAPITAL</th>\n",
       "      <th>INDUSTRIAL_CLASS</th>\n",
       "      <th>PRINCIPAL_BUSINESS_ACTIVITY_AS_PER_CIN</th>\n",
       "      <th>REGISTERED_OFFICE_ADDRESS</th>\n",
       "      <th>REGISTRAR_OF_COMPANIES</th>\n",
       "      <th>EMAIL_ADDR</th>\n",
       "      <th>LATEST_YEAR_ANNUAL_RETURN</th>\n",
       "      <th>LATEST_YEAR_FINANCIAL_STATEMENT</th>\n",
       "    </tr>\n",
       "  </thead>\n",
       "  <tbody>\n",
       "    <tr>\n",
       "      <th>310</th>\n",
       "      <td>L01117TZ1943PLC000117</td>\n",
       "      <td>NEELAMALAI AGRO INDUSTRIES LIMITED</td>\n",
       "      <td>ACTV</td>\n",
       "      <td>Public</td>\n",
       "      <td>Company limited by Shares</td>\n",
       "      <td>Non-govt company</td>\n",
       "      <td>21/04/1943</td>\n",
       "      <td>Tamil Nadu</td>\n",
       "      <td>1.250000e+07</td>\n",
       "      <td>6273500.0</td>\n",
       "      <td>1117</td>\n",
       "      <td>Agriculture &amp; allied</td>\n",
       "      <td>KATARY ESTATEKATARY POSTCOONOOR</td>\n",
       "      <td>1</td>\n",
       "      <td>secneelamalai@avtplantations.co.in</td>\n",
       "      <td>31/03/2019</td>\n",
       "      <td>31/03/2019</td>\n",
       "    </tr>\n",
       "    <tr>\n",
       "      <th>311</th>\n",
       "      <td>L01119TN1986PLC013473</td>\n",
       "      <td>ABAN OFFSHORE LIMITED</td>\n",
       "      <td>ACTV</td>\n",
       "      <td>Public</td>\n",
       "      <td>Company limited by Shares</td>\n",
       "      <td>Non-govt company</td>\n",
       "      <td>25/09/1986</td>\n",
       "      <td>Tamil Nadu</td>\n",
       "      <td>1.500000e+10</td>\n",
       "      <td>116730000.0</td>\n",
       "      <td>1119</td>\n",
       "      <td>Agriculture &amp; allied</td>\n",
       "      <td>'JANPRIYA CREST'96, PANTHEON ROAD,EGMORE</td>\n",
       "      <td>0</td>\n",
       "      <td>secretarial@aban.com</td>\n",
       "      <td>31/03/2019</td>\n",
       "      <td>31/03/2019</td>\n",
       "    </tr>\n",
       "    <tr>\n",
       "      <th>313</th>\n",
       "      <td>L01119TN1992PLC024076</td>\n",
       "      <td>SOFTECH INFINIUM SOLUTIONS LIMITED</td>\n",
       "      <td>ACTV</td>\n",
       "      <td>Public</td>\n",
       "      <td>Company limited by Shares</td>\n",
       "      <td>Non-govt company</td>\n",
       "      <td>21/12/1992</td>\n",
       "      <td>Tamil Nadu</td>\n",
       "      <td>1.500000e+08</td>\n",
       "      <td>40000000.0</td>\n",
       "      <td>1119</td>\n",
       "      <td>Agriculture &amp; allied</td>\n",
       "      <td>29, PRECISION PLAZA, NEW 397, ANNA SALAITEYNAM...</td>\n",
       "      <td>0</td>\n",
       "      <td>complianceofficer@softechinfinium.com</td>\n",
       "      <td>31/03/2018</td>\n",
       "      <td>31/03/2018</td>\n",
       "    </tr>\n",
       "    <tr>\n",
       "      <th>315</th>\n",
       "      <td>L01122TZ1995PLC010762</td>\n",
       "      <td>POCHIRAJU INDUSTRIES LIMITED</td>\n",
       "      <td>ACTV</td>\n",
       "      <td>Public</td>\n",
       "      <td>Company limited by Shares</td>\n",
       "      <td>Non-govt company</td>\n",
       "      <td>04/05/1995</td>\n",
       "      <td>Tamil Nadu</td>\n",
       "      <td>2.500000e+08</td>\n",
       "      <td>189066750.0</td>\n",
       "      <td>1122</td>\n",
       "      <td>Agriculture &amp; allied</td>\n",
       "      <td>1/102 SATHYAMANGALAM VILLAGEHOSUR TALUK</td>\n",
       "      <td>1</td>\n",
       "      <td>mmreddyandco@gmail.com</td>\n",
       "      <td>31/03/2019</td>\n",
       "      <td>31/03/2019</td>\n",
       "    </tr>\n",
       "    <tr>\n",
       "      <th>318</th>\n",
       "      <td>L01132TZ1922PLC000234</td>\n",
       "      <td>THE UNITED NILGIRI TEA ESTATES COMPANYLIMITED</td>\n",
       "      <td>ACTV</td>\n",
       "      <td>Public</td>\n",
       "      <td>Company limited by Shares</td>\n",
       "      <td>Non-govt company</td>\n",
       "      <td>09/08/1922</td>\n",
       "      <td>Tamil Nadu</td>\n",
       "      <td>5.000000e+07</td>\n",
       "      <td>49965660.0</td>\n",
       "      <td>1132</td>\n",
       "      <td>Agriculture &amp; allied</td>\n",
       "      <td>3 SAVITHRI SHANMUGHAM ROADRACE COURSE</td>\n",
       "      <td>1</td>\n",
       "      <td>headoffice@chamrajtea.com</td>\n",
       "      <td>31/03/2019</td>\n",
       "      <td>31/03/2019</td>\n",
       "    </tr>\n",
       "    <tr>\n",
       "      <th>...</th>\n",
       "      <td>...</td>\n",
       "      <td>...</td>\n",
       "      <td>...</td>\n",
       "      <td>...</td>\n",
       "      <td>...</td>\n",
       "      <td>...</td>\n",
       "      <td>...</td>\n",
       "      <td>...</td>\n",
       "      <td>...</td>\n",
       "      <td>...</td>\n",
       "      <td>...</td>\n",
       "      <td>...</td>\n",
       "      <td>...</td>\n",
       "      <td>...</td>\n",
       "      <td>...</td>\n",
       "      <td>...</td>\n",
       "      <td>...</td>\n",
       "    </tr>\n",
       "    <tr>\n",
       "      <th>150862</th>\n",
       "      <td>U74997TN2016PTC112105</td>\n",
       "      <td>MRKR COMMUNICATIONS PRIVATE LIMITED</td>\n",
       "      <td>ACTV</td>\n",
       "      <td>Private</td>\n",
       "      <td>Company limited by Shares</td>\n",
       "      <td>Non-govt company</td>\n",
       "      <td>22/08/2016</td>\n",
       "      <td>Tamil Nadu</td>\n",
       "      <td>1.000000e+05</td>\n",
       "      <td>100000.0</td>\n",
       "      <td>74997</td>\n",
       "      <td>Real estate renting and business activities</td>\n",
       "      <td>11C,AASARI STREET,THALLAKULAM11C,AASARI STREET...</td>\n",
       "      <td>0</td>\n",
       "      <td>RKRPRIYAN@GMAIL.COM</td>\n",
       "      <td>31/03/2019</td>\n",
       "      <td>31/03/2019</td>\n",
       "    </tr>\n",
       "    <tr>\n",
       "      <th>150864</th>\n",
       "      <td>U74997TN2016PTC112257</td>\n",
       "      <td>ETHNICINDIAN FASHION RETAIL PRIVATELIMITED</td>\n",
       "      <td>ACTV</td>\n",
       "      <td>Private</td>\n",
       "      <td>Company limited by Shares</td>\n",
       "      <td>Non-govt company</td>\n",
       "      <td>30/08/2016</td>\n",
       "      <td>Tamil Nadu</td>\n",
       "      <td>1.000000e+06</td>\n",
       "      <td>1000000.0</td>\n",
       "      <td>74997</td>\n",
       "      <td>Real estate renting and business activities</td>\n",
       "      <td>VNR Milford, Flat 117, First FloorA Block, Mil...</td>\n",
       "      <td>0</td>\n",
       "      <td>ALEX.CHANDRAN@GMAIL.COM</td>\n",
       "      <td>31/03/2019</td>\n",
       "      <td>31/03/2019</td>\n",
       "    </tr>\n",
       "    <tr>\n",
       "      <th>150865</th>\n",
       "      <td>U74997TN2016PTC112312</td>\n",
       "      <td>SAVIDYA EDUCATION PRIVATE LIMITED</td>\n",
       "      <td>ACTV</td>\n",
       "      <td>Private</td>\n",
       "      <td>Company limited by Shares</td>\n",
       "      <td>Non-govt company</td>\n",
       "      <td>01/09/2016</td>\n",
       "      <td>Tamil Nadu</td>\n",
       "      <td>1.000000e+06</td>\n",
       "      <td>100000.0</td>\n",
       "      <td>74997</td>\n",
       "      <td>Real estate renting and business activities</td>\n",
       "      <td>Mahalakshmi Mansion, 29/4 FirstMain Road ,Gand...</td>\n",
       "      <td>0</td>\n",
       "      <td>sridevis77@yahoo.com</td>\n",
       "      <td>31/03/2019</td>\n",
       "      <td>31/03/2019</td>\n",
       "    </tr>\n",
       "    <tr>\n",
       "      <th>150866</th>\n",
       "      <td>U74997TN2016PTC112556</td>\n",
       "      <td>QUAD42 MEDIA PRIVATE LIMITED</td>\n",
       "      <td>ACTV</td>\n",
       "      <td>Private</td>\n",
       "      <td>Company limited by Shares</td>\n",
       "      <td>Non-govt company</td>\n",
       "      <td>19/09/2016</td>\n",
       "      <td>Tamil Nadu</td>\n",
       "      <td>1.000000e+06</td>\n",
       "      <td>100000.0</td>\n",
       "      <td>74997</td>\n",
       "      <td>Real estate renting and business activities</td>\n",
       "      <td>Old No.37, New No.5753rd Street, 9th Avenue</td>\n",
       "      <td>0</td>\n",
       "      <td>ezhil@quad42.com</td>\n",
       "      <td>31/03/2019</td>\n",
       "      <td>31/03/2019</td>\n",
       "    </tr>\n",
       "    <tr>\n",
       "      <th>150869</th>\n",
       "      <td>U74997TZ2018PTC030177</td>\n",
       "      <td>PANDIYA AGRI SOLUTIONS PRIVATE LIMITED</td>\n",
       "      <td>ACTV</td>\n",
       "      <td>Private</td>\n",
       "      <td>Company limited by Shares</td>\n",
       "      <td>Non-govt company</td>\n",
       "      <td>16/03/2018</td>\n",
       "      <td>Tamil Nadu</td>\n",
       "      <td>2.500000e+06</td>\n",
       "      <td>1500000.0</td>\n",
       "      <td>74997</td>\n",
       "      <td>Real estate renting and business activities</td>\n",
       "      <td>10/10 C3, Venkatasamy StreetRailyway Mens Colo...</td>\n",
       "      <td>1</td>\n",
       "      <td>sathishpandiya@gmail.com</td>\n",
       "      <td>31/03/2019</td>\n",
       "      <td>31/03/2019</td>\n",
       "    </tr>\n",
       "  </tbody>\n",
       "</table>\n",
       "<p>73739 rows × 17 columns</p>\n",
       "</div>"
      ],
      "text/plain": [
       "       CORPORATE_IDENTIFICATION_NUMBER  \\\n",
       "310              L01117TZ1943PLC000117   \n",
       "311              L01119TN1986PLC013473   \n",
       "313              L01119TN1992PLC024076   \n",
       "315              L01122TZ1995PLC010762   \n",
       "318              L01132TZ1922PLC000234   \n",
       "...                                ...   \n",
       "150862           U74997TN2016PTC112105   \n",
       "150864           U74997TN2016PTC112257   \n",
       "150865           U74997TN2016PTC112312   \n",
       "150866           U74997TN2016PTC112556   \n",
       "150869           U74997TZ2018PTC030177   \n",
       "\n",
       "                                           COMPANY_NAME COMPANY_STATUS  \\\n",
       "310               NEELAMALAI AGRO INDUSTRIES LIMITED              ACTV   \n",
       "311                            ABAN OFFSHORE LIMITED              ACTV   \n",
       "313               SOFTECH INFINIUM SOLUTIONS LIMITED              ACTV   \n",
       "315                     POCHIRAJU INDUSTRIES LIMITED              ACTV   \n",
       "318     THE UNITED NILGIRI TEA ESTATES COMPANYLIMITED             ACTV   \n",
       "...                                                 ...            ...   \n",
       "150862           MRKR COMMUNICATIONS PRIVATE LIMITED              ACTV   \n",
       "150864     ETHNICINDIAN FASHION RETAIL PRIVATELIMITED             ACTV   \n",
       "150865             SAVIDYA EDUCATION PRIVATE LIMITED              ACTV   \n",
       "150866                  QUAD42 MEDIA PRIVATE LIMITED              ACTV   \n",
       "150869        PANDIYA AGRI SOLUTIONS PRIVATE LIMITED              ACTV   \n",
       "\n",
       "       COMPANY_CLASS           COMPANY_CATEGORY COMPANY_SUB_CATEGORY  \\\n",
       "310           Public  Company limited by Shares     Non-govt company   \n",
       "311           Public  Company limited by Shares     Non-govt company   \n",
       "313           Public  Company limited by Shares     Non-govt company   \n",
       "315           Public  Company limited by Shares     Non-govt company   \n",
       "318           Public  Company limited by Shares     Non-govt company   \n",
       "...              ...                        ...                  ...   \n",
       "150862       Private  Company limited by Shares     Non-govt company   \n",
       "150864       Private  Company limited by Shares     Non-govt company   \n",
       "150865       Private  Company limited by Shares     Non-govt company   \n",
       "150866       Private  Company limited by Shares     Non-govt company   \n",
       "150869       Private  Company limited by Shares     Non-govt company   \n",
       "\n",
       "       DATE_OF_REGISTRATION REGISTERED_STATE  AUTHORIZED_CAP  PAIDUP_CAPITAL  \\\n",
       "310              21/04/1943       Tamil Nadu    1.250000e+07       6273500.0   \n",
       "311              25/09/1986       Tamil Nadu    1.500000e+10     116730000.0   \n",
       "313              21/12/1992       Tamil Nadu    1.500000e+08      40000000.0   \n",
       "315              04/05/1995       Tamil Nadu    2.500000e+08     189066750.0   \n",
       "318              09/08/1922       Tamil Nadu    5.000000e+07      49965660.0   \n",
       "...                     ...              ...             ...             ...   \n",
       "150862           22/08/2016       Tamil Nadu    1.000000e+05        100000.0   \n",
       "150864           30/08/2016       Tamil Nadu    1.000000e+06       1000000.0   \n",
       "150865           01/09/2016       Tamil Nadu    1.000000e+06        100000.0   \n",
       "150866           19/09/2016       Tamil Nadu    1.000000e+06        100000.0   \n",
       "150869           16/03/2018       Tamil Nadu    2.500000e+06       1500000.0   \n",
       "\n",
       "        INDUSTRIAL_CLASS       PRINCIPAL_BUSINESS_ACTIVITY_AS_PER_CIN  \\\n",
       "310                 1117                         Agriculture & allied   \n",
       "311                 1119                         Agriculture & allied   \n",
       "313                 1119                         Agriculture & allied   \n",
       "315                 1122                         Agriculture & allied   \n",
       "318                 1132                         Agriculture & allied   \n",
       "...                  ...                                          ...   \n",
       "150862             74997  Real estate renting and business activities   \n",
       "150864             74997  Real estate renting and business activities   \n",
       "150865             74997  Real estate renting and business activities   \n",
       "150866             74997  Real estate renting and business activities   \n",
       "150869             74997  Real estate renting and business activities   \n",
       "\n",
       "                                REGISTERED_OFFICE_ADDRESS  \\\n",
       "310                     KATARY ESTATEKATARY POSTCOONOOR     \n",
       "311            'JANPRIYA CREST'96, PANTHEON ROAD,EGMORE     \n",
       "313     29, PRECISION PLAZA, NEW 397, ANNA SALAITEYNAM...   \n",
       "315             1/102 SATHYAMANGALAM VILLAGEHOSUR TALUK     \n",
       "318               3 SAVITHRI SHANMUGHAM ROADRACE COURSE     \n",
       "...                                                   ...   \n",
       "150862  11C,AASARI STREET,THALLAKULAM11C,AASARI STREET...   \n",
       "150864  VNR Milford, Flat 117, First FloorA Block, Mil...   \n",
       "150865  Mahalakshmi Mansion, 29/4 FirstMain Road ,Gand...   \n",
       "150866      Old No.37, New No.5753rd Street, 9th Avenue     \n",
       "150869  10/10 C3, Venkatasamy StreetRailyway Mens Colo...   \n",
       "\n",
       "        REGISTRAR_OF_COMPANIES                             EMAIL_ADDR  \\\n",
       "310                          1     secneelamalai@avtplantations.co.in   \n",
       "311                          0                   secretarial@aban.com   \n",
       "313                          0  complianceofficer@softechinfinium.com   \n",
       "315                          1                 mmreddyandco@gmail.com   \n",
       "318                          1              headoffice@chamrajtea.com   \n",
       "...                        ...                                    ...   \n",
       "150862                       0                    RKRPRIYAN@GMAIL.COM   \n",
       "150864                       0                ALEX.CHANDRAN@GMAIL.COM   \n",
       "150865                       0                   sridevis77@yahoo.com   \n",
       "150866                       0                       ezhil@quad42.com   \n",
       "150869                       1               sathishpandiya@gmail.com   \n",
       "\n",
       "       LATEST_YEAR_ANNUAL_RETURN LATEST_YEAR_FINANCIAL_STATEMENT  \n",
       "310                   31/03/2019                      31/03/2019  \n",
       "311                   31/03/2019                      31/03/2019  \n",
       "313                   31/03/2018                      31/03/2018  \n",
       "315                   31/03/2019                      31/03/2019  \n",
       "318                   31/03/2019                      31/03/2019  \n",
       "...                          ...                             ...  \n",
       "150862                31/03/2019                      31/03/2019  \n",
       "150864                31/03/2019                      31/03/2019  \n",
       "150865                31/03/2019                      31/03/2019  \n",
       "150866                31/03/2019                      31/03/2019  \n",
       "150869                31/03/2019                      31/03/2019  \n",
       "\n",
       "[73739 rows x 17 columns]"
      ]
     },
     "execution_count": 35,
     "metadata": {},
     "output_type": "execute_result"
    }
   ],
   "source": [
    "# Example: Handling missing values\n",
    "df = df.dropna()\n",
    "df"
   ]
  },
  {
   "cell_type": "markdown",
   "metadata": {},
   "source": [
    "Out of the 150869 rows in the dataset,vafter the process of data cleansing we obtain 73739 rows."
   ]
  },
  {
   "cell_type": "markdown",
   "metadata": {},
   "source": [
    "### Datatype Correction"
   ]
  },
  {
   "cell_type": "code",
   "execution_count": 4,
   "metadata": {},
   "outputs": [
    {
     "data": {
      "text/plain": [
       "310        1117\n",
       "311        1119\n",
       "313        1119\n",
       "315        1122\n",
       "318        1132\n",
       "          ...  \n",
       "150862    74997\n",
       "150864    74997\n",
       "150865    74997\n",
       "150866    74997\n",
       "150869    74997\n",
       "Name: INDUSTRIAL_CLASS, Length: 73739, dtype: int32"
      ]
     },
     "execution_count": 4,
     "metadata": {},
     "output_type": "execute_result"
    }
   ],
   "source": [
    "df['INDUSTRIAL_CLASS'].astype('int32')"
   ]
  },
  {
   "cell_type": "code",
   "execution_count": null,
   "metadata": {},
   "outputs": [],
   "source": []
  },
  {
   "cell_type": "markdown",
   "metadata": {
    "id": "rrxs3_C4mtI6"
   },
   "source": [
    "# Analysis 3: Descriptive Statistics"
   ]
  },
  {
   "cell_type": "code",
   "execution_count": 34,
   "metadata": {},
   "outputs": [
    {
     "name": "stderr",
     "output_type": "stream",
     "text": [
      "/var/folders/x7/93yvmx1d2x71c24gv8nb366c0000gn/T/ipykernel_39072/3989289243.py:1: SettingWithCopyWarning: \n",
      "A value is trying to be set on a copy of a slice from a DataFrame.\n",
      "Try using .loc[row_indexer,col_indexer] = value instead\n",
      "\n",
      "See the caveats in the documentation: https://pandas.pydata.org/pandas-docs/stable/user_guide/indexing.html#returning-a-view-versus-a-copy\n",
      "  df['INDUSTRIAL_CLASS'] = df['INDUSTRIAL_CLASS'].astype('int32')\n"
     ]
    }
   ],
   "source": [
    "df['INDUSTRIAL_CLASS'] = df['INDUSTRIAL_CLASS'].astype('int32')"
   ]
  },
  {
   "cell_type": "code",
   "execution_count": 6,
   "metadata": {
    "colab": {
     "base_uri": "https://localhost:8080/"
    },
    "id": "TVaQpANBlvzc",
    "outputId": "838e5651-1404-4ee8-cd63-cb824ba5c913"
   },
   "outputs": [
    {
     "name": "stdout",
     "output_type": "stream",
     "text": [
      "\n",
      "Summary Statistics for Numeric Columns:\n",
      "       AUTHORIZED_CAP  PAIDUP_CAPITAL  INDUSTRIAL_CLASS\n",
      "count    7.373900e+04    7.373900e+04      73739.000000\n",
      "mean     6.893708e+07    4.676817e+07      53227.012382\n",
      "std      2.013478e+09    1.533699e+09      23985.340312\n",
      "min      0.000000e+00    0.000000e+00          0.000000\n",
      "25%      2.000000e+05    1.000000e+05      30007.000000\n",
      "50%      1.000000e+06    4.000000e+05      63013.000000\n",
      "75%      5.000000e+06    2.740000e+06      73100.000000\n",
      "max      3.000000e+11    2.460000e+11      99999.000000\n"
     ]
    }
   ],
   "source": [
    "# Example: Summary statistics for numeric columns\n",
    "print(\"\\nSummary Statistics for Numeric Columns:\")\n",
    "print(df.describe())\n"
   ]
  },
  {
   "cell_type": "markdown",
   "metadata": {
    "id": "wgIQsGURmxom"
   },
   "source": [
    "# Analysis 4: Visualizations"
   ]
  },
  {
   "cell_type": "code",
   "execution_count": 7,
   "metadata": {
    "colab": {
     "base_uri": "https://localhost:8080/",
     "height": 564
    },
    "id": "yfMl6GO3lxw1",
    "outputId": "2d3dafc9-f35b-475e-fb0e-1af5a63c4931"
   },
   "outputs": [
    {
     "data": {
      "image/png": "[encoded data removed]",
      "text/plain": [
       "<Figure size 720x432 with 1 Axes>"
      ]
     },
     "metadata": {
      "needs_background": "light"
     },
     "output_type": "display_data"
    }
   ],
   "source": [
    "# Example: Histogram of Authorized Capital\n",
    "plt.figure(figsize=(10, 6))\n",
    "plt.hist(df['AUTHORIZED_CAP'], bins=20, color='purple')\n",
    "plt.title('Histogram of Authorized Capital')\n",
    "plt.xlabel('Authorized Capital')\n",
    "plt.ylabel('Frequency')\n",
    "plt.show()\n"
   ]
  },
  {
   "cell_type": "code",
   "execution_count": 8,
   "metadata": {},
   "outputs": [
    {
     "data": {
      "text/plain": [
       "Text(0, 0.5, 'Count')"
      ]
     },
     "execution_count": 8,
     "metadata": {},
     "output_type": "execute_result"
    },
    {
     "data": {
      "image/png": "[encoded data removed]",
      "text/plain": [
       "<Figure size 720x432 with 1 Axes>"
      ]
     },
     "metadata": {},
     "output_type": "display_data"
    }
   ],
   "source": [
    "#Distribution of Company Categories\n",
    "sns.set(style='whitegrid') \n",
    "plt.figure(figsize=(10, 6))  \n",
    "\n",
    "# Create the count plot for the COMPANY_CATEGORY column\n",
    "sns.countplot(x='COMPANY_CATEGORY', data=df, palette='Set3', color = 'skyblue')\n",
    "\n",
    "# Customize the plot (optional)\n",
    "plt.title('Distribution of Company Categories')\n",
    "plt.xlabel('Company Category')\n",
    "plt.ylabel('Count')"
   ]
  },
  {
   "cell_type": "code",
   "execution_count": 9,
   "metadata": {},
   "outputs": [
    {
     "data": {
      "text/plain": [
       "Text(0, 0.5, 'Count')"
      ]
     },
     "execution_count": 9,
     "metadata": {},
     "output_type": "execute_result"
    },
    {
     "data": {
      "image/png": "[encoded data removed]",
      "text/plain": [
       "<Figure size 432x288 with 1 Axes>"
      ]
     },
     "metadata": {},
     "output_type": "display_data"
    }
   ],
   "source": [
    "### COMPANY_SUB_CATEGORY column\n",
    "sns.countplot(x='COMPANY_SUB_CATEGORY', data=df, palette='Set3', ) \n",
    "\n",
    "### Customize the plot \n",
    "plt.title('Frequency of Company Subcategories')\n",
    "plt.xlabel('Company Subcategory')\n",
    "plt.ylabel('Count')"
   ]
  },
  {
   "cell_type": "code",
   "execution_count": 10,
   "metadata": {},
   "outputs": [
    {
     "data": {
      "text/plain": [
       "Text(0, 0.5, 'Capital Value (in Rupees)')"
      ]
     },
     "execution_count": 10,
     "metadata": {},
     "output_type": "execute_result"
    },
    {
     "data": {
      "image/png": "[encoded data removed]",
      "text/plain": [
       "<Figure size 432x288 with 1 Axes>"
      ]
     },
     "metadata": {},
     "output_type": "display_data"
    }
   ],
   "source": [
    "sns.boxplot(data=df, palette='Set2')\n",
    "\n",
    "# Add a violin plot on top of the box plot for better visualization\n",
    "sns.violinplot(data=df, palette='Set3', inner=None)\n",
    "\n",
    "# Customize the plot (optional)\n",
    "plt.title('Comparison of Authorized Capital and Paid-up Capital')\n",
    "plt.ylabel('Capital Value (in Rupees)')"
   ]
  },
  {
   "cell_type": "markdown",
   "metadata": {
    "id": "iP0GGiEem0oD"
   },
   "source": [
    "# Analysis 5: Grouping and Aggregation"
   ]
  },
  {
   "cell_type": "code",
   "execution_count": 11,
   "metadata": {
    "colab": {
     "base_uri": "https://localhost:8080/"
    },
    "id": "49O_87_Bl0H9",
    "outputId": "1092cfa1-6475-426d-d9bb-2304dd05ba16"
   },
   "outputs": [
    {
     "name": "stdout",
     "output_type": "stream",
     "text": [
      "\n",
      "Average Paid-up Capital by Company Category:\n",
      "COMPANY_CATEGORY\n",
      "Company Limited by Guarantee    1.358834e+07\n",
      "Company limited by Shares       4.692538e+07\n",
      "Unlimited Company               5.000000e+05\n",
      "Name: PAIDUP_CAPITAL, dtype: float64\n"
     ]
    }
   ],
   "source": [
    "# Example: Average Paid-up Capital by Company Category\n",
    "avg_paidup_capital_by_category = df.groupby('COMPANY_CATEGORY')['PAIDUP_CAPITAL'].mean()\n",
    "print(\"\\nAverage Paid-up Capital by Company Category:\")\n",
    "print(avg_paidup_capital_by_category)"
   ]
  },
  {
   "cell_type": "markdown",
   "metadata": {
    "id": "dMr_lj2km3M7"
   },
   "source": [
    "# Analysis 6: Correlation Matrix"
   ]
  },
  {
   "cell_type": "code",
   "execution_count": 12,
   "metadata": {
    "colab": {
     "base_uri": "https://localhost:8080/",
     "height": 718
    },
    "id": "CinihHJll69_",
    "outputId": "6526eb63-9fe1-4693-f14b-de2351359002"
   },
   "outputs": [
    {
     "data": {
      "image/png": "[encoded data removed]",
      "text/plain": [
       "<Figure size 720x576 with 1 Axes>"
      ]
     },
     "metadata": {},
     "output_type": "display_data"
    }
   ],
   "source": [
    "from sklearn.decomposition import PCA\n",
    "\n",
    "# Assuming 'features' is a DataFrame containing only numeric columns\n",
    "features = df.select_dtypes(include=['float64', 'int64'])\n",
    "pca = PCA(n_components=2)\n",
    "principal_components = pca.fit_transform(features)\n",
    "principal_df = pd.DataFrame(data=principal_components, columns=['PC1', 'PC2'])\n",
    "plt.figure(figsize=(10, 8))\n",
    "plt.scatter(principal_df['PC1'], principal_df['PC2'])\n",
    "plt.title('PCA')\n",
    "plt.xlabel('Authorised Capital')\n",
    "plt.ylabel('Paidup Capital')\n",
    "plt.show()\n"
   ]
  },
  {
   "cell_type": "markdown",
   "metadata": {
    "id": "tEOtpyEqm63f"
   },
   "source": [
    "# Analysis 7: Principal Component Analysis (PCA)"
   ]
  },
  {
   "cell_type": "code",
   "execution_count": 13,
   "metadata": {
    "colab": {
     "base_uri": "https://localhost:8080/",
     "height": 754
    },
    "id": "9eVuLbgUmB35",
    "outputId": "d5ef0fa2-0b8d-453c-d58e-e5749b3d0457"
   },
   "outputs": [
    {
     "data": {
      "image/png": "[encoded data removed]",
      "text/plain": [
       "<Figure size 720x576 with 2 Axes>"
      ]
     },
     "metadata": {},
     "output_type": "display_data"
    }
   ],
   "source": [
    "# Example: Correlation Matrix\n",
    "import pandas as pd\n",
    "import matplotlib.pyplot as plt\n",
    "import seaborn as sns  # Add this line\n",
    "\n",
    "# ... (rest of your code)\n",
    "\n",
    "correlation_matrix = df.corr()\n",
    "plt.figure(figsize=(10, 8))\n",
    "sns.heatmap(correlation_matrix, annot=True, cmap='coolwarm', fmt=\".2f\")\n",
    "plt.title('Correlation Matrix')\n",
    "plt.show()"
   ]
  },
  {
   "cell_type": "code",
   "execution_count": 14,
   "metadata": {
    "colab": {
     "base_uri": "https://localhost:8080/",
     "height": 451
    },
    "id": "4FKkoJua1cEi",
    "outputId": "fd4ffc4c-f4d8-4804-ec9c-ed933753c894"
   },
   "outputs": [
    {
     "data": {
      "text/html": [
       "<div>\n",
       "<style scoped>\n",
       "    .dataframe tbody tr th:only-of-type {\n",
       "        vertical-align: middle;\n",
       "    }\n",
       "\n",
       "    .dataframe tbody tr th {\n",
       "        vertical-align: top;\n",
       "    }\n",
       "\n",
       "    .dataframe thead th {\n",
       "        text-align: right;\n",
       "    }\n",
       "</style>\n",
       "<table border=\"1\" class=\"dataframe\">\n",
       "  <thead>\n",
       "    <tr style=\"text-align: right;\">\n",
       "      <th></th>\n",
       "      <th>CORPORATE_IDENTIFICATION_NUMBER</th>\n",
       "      <th>COMPANY_NAME</th>\n",
       "      <th>COMPANY_STATUS</th>\n",
       "      <th>COMPANY_CLASS</th>\n",
       "      <th>COMPANY_CATEGORY</th>\n",
       "      <th>COMPANY_SUB_CATEGORY</th>\n",
       "      <th>DATE_OF_REGISTRATION</th>\n",
       "      <th>REGISTERED_STATE</th>\n",
       "      <th>AUTHORIZED_CAP</th>\n",
       "      <th>PAIDUP_CAPITAL</th>\n",
       "      <th>INDUSTRIAL_CLASS</th>\n",
       "      <th>PRINCIPAL_BUSINESS_ACTIVITY_AS_PER_CIN</th>\n",
       "      <th>REGISTERED_OFFICE_ADDRESS</th>\n",
       "      <th>REGISTRAR_OF_COMPANIES</th>\n",
       "      <th>EMAIL_ADDR</th>\n",
       "      <th>LATEST_YEAR_ANNUAL_RETURN</th>\n",
       "      <th>LATEST_YEAR_FINANCIAL_STATEMENT</th>\n",
       "    </tr>\n",
       "  </thead>\n",
       "  <tbody>\n",
       "    <tr>\n",
       "      <th>310</th>\n",
       "      <td>L01117TZ1943PLC000117</td>\n",
       "      <td>NEELAMALAI AGRO INDUSTRIES LIMITED</td>\n",
       "      <td>ACTV</td>\n",
       "      <td>Public</td>\n",
       "      <td>Company limited by Shares</td>\n",
       "      <td>Non-govt company</td>\n",
       "      <td>21/04/1943</td>\n",
       "      <td>Tamil Nadu</td>\n",
       "      <td>1.250000e+07</td>\n",
       "      <td>6273500.0</td>\n",
       "      <td>1117</td>\n",
       "      <td>Agriculture &amp; allied</td>\n",
       "      <td>KATARY ESTATEKATARY POSTCOONOOR</td>\n",
       "      <td>ROC燙OIMBATORE</td>\n",
       "      <td>secneelamalai@avtplantations.co.in</td>\n",
       "      <td>31/03/2019</td>\n",
       "      <td>31/03/2019</td>\n",
       "    </tr>\n",
       "    <tr>\n",
       "      <th>311</th>\n",
       "      <td>L01119TN1986PLC013473</td>\n",
       "      <td>ABAN OFFSHORE LIMITED</td>\n",
       "      <td>ACTV</td>\n",
       "      <td>Public</td>\n",
       "      <td>Company limited by Shares</td>\n",
       "      <td>Non-govt company</td>\n",
       "      <td>25/09/1986</td>\n",
       "      <td>Tamil Nadu</td>\n",
       "      <td>1.500000e+10</td>\n",
       "      <td>116730000.0</td>\n",
       "      <td>1119</td>\n",
       "      <td>Agriculture &amp; allied</td>\n",
       "      <td>'JANPRIYA CREST'96, PANTHEON ROAD,EGMORE</td>\n",
       "      <td>ROC燙HENNAI</td>\n",
       "      <td>secretarial@aban.com</td>\n",
       "      <td>31/03/2019</td>\n",
       "      <td>31/03/2019</td>\n",
       "    </tr>\n",
       "    <tr>\n",
       "      <th>313</th>\n",
       "      <td>L01119TN1992PLC024076</td>\n",
       "      <td>SOFTECH INFINIUM SOLUTIONS LIMITED</td>\n",
       "      <td>ACTV</td>\n",
       "      <td>Public</td>\n",
       "      <td>Company limited by Shares</td>\n",
       "      <td>Non-govt company</td>\n",
       "      <td>21/12/1992</td>\n",
       "      <td>Tamil Nadu</td>\n",
       "      <td>1.500000e+08</td>\n",
       "      <td>40000000.0</td>\n",
       "      <td>1119</td>\n",
       "      <td>Agriculture &amp; allied</td>\n",
       "      <td>29, PRECISION PLAZA, NEW 397, ANNA SALAITEYNAM...</td>\n",
       "      <td>ROC燙HENNAI</td>\n",
       "      <td>complianceofficer@softechinfinium.com</td>\n",
       "      <td>31/03/2018</td>\n",
       "      <td>31/03/2018</td>\n",
       "    </tr>\n",
       "    <tr>\n",
       "      <th>315</th>\n",
       "      <td>L01122TZ1995PLC010762</td>\n",
       "      <td>POCHIRAJU INDUSTRIES LIMITED</td>\n",
       "      <td>ACTV</td>\n",
       "      <td>Public</td>\n",
       "      <td>Company limited by Shares</td>\n",
       "      <td>Non-govt company</td>\n",
       "      <td>04/05/1995</td>\n",
       "      <td>Tamil Nadu</td>\n",
       "      <td>2.500000e+08</td>\n",
       "      <td>189066750.0</td>\n",
       "      <td>1122</td>\n",
       "      <td>Agriculture &amp; allied</td>\n",
       "      <td>1/102 SATHYAMANGALAM VILLAGEHOSUR TALUK</td>\n",
       "      <td>ROC燙OIMBATORE</td>\n",
       "      <td>mmreddyandco@gmail.com</td>\n",
       "      <td>31/03/2019</td>\n",
       "      <td>31/03/2019</td>\n",
       "    </tr>\n",
       "    <tr>\n",
       "      <th>318</th>\n",
       "      <td>L01132TZ1922PLC000234</td>\n",
       "      <td>THE UNITED NILGIRI TEA ESTATES COMPANYLIMITED</td>\n",
       "      <td>ACTV</td>\n",
       "      <td>Public</td>\n",
       "      <td>Company limited by Shares</td>\n",
       "      <td>Non-govt company</td>\n",
       "      <td>09/08/1922</td>\n",
       "      <td>Tamil Nadu</td>\n",
       "      <td>5.000000e+07</td>\n",
       "      <td>49965660.0</td>\n",
       "      <td>1132</td>\n",
       "      <td>Agriculture &amp; allied</td>\n",
       "      <td>3 SAVITHRI SHANMUGHAM ROADRACE COURSE</td>\n",
       "      <td>ROC燙OIMBATORE</td>\n",
       "      <td>headoffice@chamrajtea.com</td>\n",
       "      <td>31/03/2019</td>\n",
       "      <td>31/03/2019</td>\n",
       "    </tr>\n",
       "  </tbody>\n",
       "</table>\n",
       "</div>"
      ],
      "text/plain": [
       "    CORPORATE_IDENTIFICATION_NUMBER  \\\n",
       "310           L01117TZ1943PLC000117   \n",
       "311           L01119TN1986PLC013473   \n",
       "313           L01119TN1992PLC024076   \n",
       "315           L01122TZ1995PLC010762   \n",
       "318           L01132TZ1922PLC000234   \n",
       "\n",
       "                                        COMPANY_NAME COMPANY_STATUS  \\\n",
       "310            NEELAMALAI AGRO INDUSTRIES LIMITED              ACTV   \n",
       "311                         ABAN OFFSHORE LIMITED              ACTV   \n",
       "313            SOFTECH INFINIUM SOLUTIONS LIMITED              ACTV   \n",
       "315                  POCHIRAJU INDUSTRIES LIMITED              ACTV   \n",
       "318  THE UNITED NILGIRI TEA ESTATES COMPANYLIMITED             ACTV   \n",
       "\n",
       "    COMPANY_CLASS           COMPANY_CATEGORY COMPANY_SUB_CATEGORY  \\\n",
       "310        Public  Company limited by Shares     Non-govt company   \n",
       "311        Public  Company limited by Shares     Non-govt company   \n",
       "313        Public  Company limited by Shares     Non-govt company   \n",
       "315        Public  Company limited by Shares     Non-govt company   \n",
       "318        Public  Company limited by Shares     Non-govt company   \n",
       "\n",
       "    DATE_OF_REGISTRATION REGISTERED_STATE  AUTHORIZED_CAP  PAIDUP_CAPITAL  \\\n",
       "310           21/04/1943       Tamil Nadu    1.250000e+07       6273500.0   \n",
       "311           25/09/1986       Tamil Nadu    1.500000e+10     116730000.0   \n",
       "313           21/12/1992       Tamil Nadu    1.500000e+08      40000000.0   \n",
       "315           04/05/1995       Tamil Nadu    2.500000e+08     189066750.0   \n",
       "318           09/08/1922       Tamil Nadu    5.000000e+07      49965660.0   \n",
       "\n",
       "     INDUSTRIAL_CLASS PRINCIPAL_BUSINESS_ACTIVITY_AS_PER_CIN  \\\n",
       "310              1117                   Agriculture & allied   \n",
       "311              1119                   Agriculture & allied   \n",
       "313              1119                   Agriculture & allied   \n",
       "315              1122                   Agriculture & allied   \n",
       "318              1132                   Agriculture & allied   \n",
       "\n",
       "                             REGISTERED_OFFICE_ADDRESS REGISTRAR_OF_COMPANIES  \\\n",
       "310                  KATARY ESTATEKATARY POSTCOONOOR            ROC燙OIMBATORE   \n",
       "311         'JANPRIYA CREST'96, PANTHEON ROAD,EGMORE               ROC燙HENNAI   \n",
       "313  29, PRECISION PLAZA, NEW 397, ANNA SALAITEYNAM...             ROC燙HENNAI   \n",
       "315          1/102 SATHYAMANGALAM VILLAGEHOSUR TALUK            ROC燙OIMBATORE   \n",
       "318            3 SAVITHRI SHANMUGHAM ROADRACE COURSE            ROC燙OIMBATORE   \n",
       "\n",
       "                                EMAIL_ADDR LATEST_YEAR_ANNUAL_RETURN  \\\n",
       "310     secneelamalai@avtplantations.co.in                31/03/2019   \n",
       "311                   secretarial@aban.com                31/03/2019   \n",
       "313  complianceofficer@softechinfinium.com                31/03/2018   \n",
       "315                 mmreddyandco@gmail.com                31/03/2019   \n",
       "318              headoffice@chamrajtea.com                31/03/2019   \n",
       "\n",
       "    LATEST_YEAR_FINANCIAL_STATEMENT  \n",
       "310                      31/03/2019  \n",
       "311                      31/03/2019  \n",
       "313                      31/03/2018  \n",
       "315                      31/03/2019  \n",
       "318                      31/03/2019  "
      ]
     },
     "execution_count": 14,
     "metadata": {},
     "output_type": "execute_result"
    }
   ],
   "source": [
    "df.head()"
   ]
  },
  {
   "cell_type": "markdown",
   "metadata": {
    "id": "fHmAlGlw6LBA"
   },
   "source": []
  },
  {
   "cell_type": "code",
   "execution_count": 17,
   "metadata": {
    "id": "EJABSwLz1_kV"
   },
   "outputs": [],
   "source": [
    "\n",
    "# Assuming other relevant columns are potential features\n",
    "x = df.drop([ 'CORPORATE_IDENTIFICATION_NUMBER', 'COMPANY_NAME', 'COMPANY_STATUS', 'DATE_OF_REGISTRATION'], axis=1)\n",
    "\n",
    "# Assuming 'COMPANY_CATEGORY' is the column representing the trend category you want to predict\n",
    "y = df['REGISTRAR_OF_COMPANIES']\n"
   ]
  },
  {
   "cell_type": "code",
   "execution_count": 30,
   "metadata": {
    "id": "t2fl8zMu7Q-M"
   },
   "outputs": [
    {
     "name": "stderr",
     "output_type": "stream",
     "text": [
      "/var/folders/x7/93yvmx1d2x71c24gv8nb366c0000gn/T/ipykernel_39072/2804952299.py:1: SettingWithCopyWarning: \n",
      "A value is trying to be set on a copy of a slice from a DataFrame.\n",
      "Try using .loc[row_indexer,col_indexer] = value instead\n",
      "\n",
      "See the caveats in the documentation: https://pandas.pydata.org/pandas-docs/stable/user_guide/indexing.html#returning-a-view-versus-a-copy\n",
      "  df['REGISTRAR_OF_COMPANIES'] = df['REGISTRAR_OF_COMPANIES'].astype(str)\n"
     ]
    }
   ],
   "source": [
    "df['REGISTRAR_OF_COMPANIES'] = df['REGISTRAR_OF_COMPANIES'].astype(str)"
   ]
  },
  {
   "cell_type": "markdown",
   "metadata": {
    "id": "mweUUIKV6SD0"
   },
   "source": [
    "### Label Encoding"
   ]
  },
  {
   "cell_type": "code",
   "execution_count": 31,
   "metadata": {
    "id": "guBrWjSh6V8L"
   },
   "outputs": [
    {
     "name": "stderr",
     "output_type": "stream",
     "text": [
      "/var/folders/x7/93yvmx1d2x71c24gv8nb366c0000gn/T/ipykernel_39072/4232135814.py:3: SettingWithCopyWarning: \n",
      "A value is trying to be set on a copy of a slice from a DataFrame.\n",
      "Try using .loc[row_indexer,col_indexer] = value instead\n",
      "\n",
      "See the caveats in the documentation: https://pandas.pydata.org/pandas-docs/stable/user_guide/indexing.html#returning-a-view-versus-a-copy\n",
      "  df.loc[:, 'REGISTRAR_OF_COMPANIES'] = le.fit_transform(df['REGISTRAR_OF_COMPANIES'])\n"
     ]
    }
   ],
   "source": [
    "from sklearn.preprocessing import LabelEncoder\n",
    "le = LabelEncoder()\n",
    "df.loc[:, 'REGISTRAR_OF_COMPANIES'] = le.fit_transform(df['REGISTRAR_OF_COMPANIES'])"
   ]
  },
  {
   "cell_type": "markdown",
   "metadata": {
    "id": "X7qoSesb4kU8"
   },
   "source": [
    "### Data Splitting and Model Training"
   ]
  },
  {
   "cell_type": "code",
   "execution_count": 21,
   "metadata": {
    "id": "qoH9DZOy4TIU"
   },
   "outputs": [],
   "source": [
    "from sklearn.model_selection import train_test_split\n",
    "from sklearn.ensemble import RandomForestClassifier"
   ]
  },
  {
   "cell_type": "code",
   "execution_count": 22,
   "metadata": {
    "id": "zp6alokf7sl0"
   },
   "outputs": [],
   "source": [
    "x = df[['AUTHORIZED_CAP','PAIDUP_CAPITAL','INDUSTRIAL_CLASS']]\n",
    "y = df['REGISTRAR_OF_COMPANIES']"
   ]
  },
  {
   "cell_type": "code",
   "execution_count": 23,
   "metadata": {
    "id": "aEkMU4iR5I0D"
   },
   "outputs": [],
   "source": [
    "X_train, X_test, y_train, y_test = train_test_split(x, y, test_size=0.2, random_state=42)"
   ]
  },
  {
   "cell_type": "code",
   "execution_count": 24,
   "metadata": {
    "colab": {
     "base_uri": "https://localhost:8080/",
     "height": 74
    },
    "id": "6UtBzr_G5ajK",
    "outputId": "50c6a0f7-3260-48a1-c6ca-42c51f199c26"
   },
   "outputs": [
    {
     "data": {
      "text/plain": [
       "RandomForestClassifier()"
      ]
     },
     "execution_count": 24,
     "metadata": {},
     "output_type": "execute_result"
    }
   ],
   "source": [
    "model = RandomForestClassifier()\n",
    "model.fit(X_train, y_train)"
   ]
  },
  {
   "cell_type": "markdown",
   "metadata": {
    "id": "tCfHDEkt8ehx"
   },
   "source": [
    "### Model Evaluation"
   ]
  },
  {
   "cell_type": "code",
   "execution_count": 25,
   "metadata": {
    "id": "F5VgsMuX8jQH"
   },
   "outputs": [],
   "source": [
    "from sklearn.metrics import accuracy_score, confusion_matrix  # Replace with relevant metrics\n",
    "\n",
    "y_pred = model.predict(X_test)\n",
    "accuracy = accuracy_score(y_test, y_pred)\n",
    "conf_matrix = confusion_matrix(y_test, y_pred)"
   ]
  },
  {
   "cell_type": "code",
   "execution_count": 26,
   "metadata": {
    "colab": {
     "base_uri": "https://localhost:8080/"
    },
    "id": "tq5P5piK8qh5",
    "outputId": "eb90758e-fb53-4203-a46f-dc0937c13d1e"
   },
   "outputs": [
    {
     "name": "stdout",
     "output_type": "stream",
     "text": [
      "Accuracy: 0.8114998643883916\n",
      "Confusion Matrix:\n",
      "[[11025   731]\n",
      " [ 2049   943]]\n"
     ]
    }
   ],
   "source": [
    "print(f\"Accuracy: {accuracy}\")\n",
    "print(f\"Confusion Matrix:\\n{conf_matrix}\")"
   ]
  },
  {
   "cell_type": "markdown",
   "metadata": {
    "id": "FSM0Fkor9Em4"
   },
   "source": [
    "### Hyperparameter Tuning"
   ]
  },
  {
   "cell_type": "code",
   "execution_count": null,
   "metadata": {
    "colab": {
     "base_uri": "https://localhost:8080/",
     "height": 117
    },
    "id": "rPHCNH3V9Jfp",
    "outputId": "e58a5a3e-73b5-4a6f-8948-8bcd3e25bb51"
   },
   "outputs": [
    {
     "data": {
      "text/html": [
       "<style>#sk-container-id-2 {color: black;background-color: white;}#sk-container-id-2 pre{padding: 0;}#sk-container-id-2 div.sk-toggleable {background-color: white;}#sk-container-id-2 label.sk-toggleable__label {cursor: pointer;display: block;width: 100%;margin-bottom: 0;padding: 0.3em;box-sizing: border-box;text-align: center;}#sk-container-id-2 label.sk-toggleable__label-arrow:before {content: \"▸\";float: left;margin-right: 0.25em;color: #696969;}#sk-container-id-2 label.sk-toggleable__label-arrow:hover:before {color: black;}#sk-container-id-2 div.sk-estimator:hover label.sk-toggleable__label-arrow:before {color: black;}#sk-container-id-2 div.sk-toggleable__content {max-height: 0;max-width: 0;overflow: hidden;text-align: left;background-color: #f0f8ff;}#sk-container-id-2 div.sk-toggleable__content pre {margin: 0.2em;color: black;border-radius: 0.25em;background-color: #f0f8ff;}#sk-container-id-2 input.sk-toggleable__control:checked~div.sk-toggleable__content {max-height: 200px;max-width: 100%;overflow: auto;}#sk-container-id-2 input.sk-toggleable__control:checked~label.sk-toggleable__label-arrow:before {content: \"▾\";}#sk-container-id-2 div.sk-estimator input.sk-toggleable__control:checked~label.sk-toggleable__label {background-color: #d4ebff;}#sk-container-id-2 div.sk-label input.sk-toggleable__control:checked~label.sk-toggleable__label {background-color: #d4ebff;}#sk-container-id-2 input.sk-hidden--visually {border: 0;clip: rect(1px 1px 1px 1px);clip: rect(1px, 1px, 1px, 1px);height: 1px;margin: -1px;overflow: hidden;padding: 0;position: absolute;width: 1px;}#sk-container-id-2 div.sk-estimator {font-family: monospace;background-color: #f0f8ff;border: 1px dotted black;border-radius: 0.25em;box-sizing: border-box;margin-bottom: 0.5em;}#sk-container-id-2 div.sk-estimator:hover {background-color: #d4ebff;}#sk-container-id-2 div.sk-parallel-item::after {content: \"\";width: 100%;border-bottom: 1px solid gray;flex-grow: 1;}#sk-container-id-2 div.sk-label:hover label.sk-toggleable__label {background-color: #d4ebff;}#sk-container-id-2 div.sk-serial::before {content: \"\";position: absolute;border-left: 1px solid gray;box-sizing: border-box;top: 0;bottom: 0;left: 50%;z-index: 0;}#sk-container-id-2 div.sk-serial {display: flex;flex-direction: column;align-items: center;background-color: white;padding-right: 0.2em;padding-left: 0.2em;position: relative;}#sk-container-id-2 div.sk-item {position: relative;z-index: 1;}#sk-container-id-2 div.sk-parallel {display: flex;align-items: stretch;justify-content: center;background-color: white;position: relative;}#sk-container-id-2 div.sk-item::before, #sk-container-id-2 div.sk-parallel-item::before {content: \"\";position: absolute;border-left: 1px solid gray;box-sizing: border-box;top: 0;bottom: 0;left: 50%;z-index: -1;}#sk-container-id-2 div.sk-parallel-item {display: flex;flex-direction: column;z-index: 1;position: relative;background-color: white;}#sk-container-id-2 div.sk-parallel-item:first-child::after {align-self: flex-end;width: 50%;}#sk-container-id-2 div.sk-parallel-item:last-child::after {align-self: flex-start;width: 50%;}#sk-container-id-2 div.sk-parallel-item:only-child::after {width: 0;}#sk-container-id-2 div.sk-dashed-wrapped {border: 1px dashed gray;margin: 0 0.4em 0.5em 0.4em;box-sizing: border-box;padding-bottom: 0.4em;background-color: white;}#sk-container-id-2 div.sk-label label {font-family: monospace;font-weight: bold;display: inline-block;line-height: 1.2em;}#sk-container-id-2 div.sk-label-container {text-align: center;}#sk-container-id-2 div.sk-container {/* jupyter's `normalize.less` sets `[hidden] { display: none; }` but bootstrap.min.css set `[hidden] { display: none !important; }` so we also need the `!important` here to be able to override the default hidden behavior on the sphinx rendered scikit-learn.org. See: https://github.com/scikit-learn/scikit-learn/issues/21755 */display: inline-block !important;position: relative;}#sk-container-id-2 div.sk-text-repr-fallback {display: none;}</style><div id=\"sk-container-id-2\" class=\"sk-top-container\"><div class=\"sk-text-repr-fallback\"><pre>GridSearchCV(cv=5, estimator=RandomForestClassifier(),\n",
       "             param_grid={&#x27;max_depth&#x27;: [None, 10, 20],\n",
       "                         &#x27;n_estimators&#x27;: [50, 100, 200]})</pre><b>In a Jupyter environment, please rerun this cell to show the HTML representation or trust the notebook. <br />On GitHub, the HTML representation is unable to render, please try loading this page with nbviewer.org.</b></div><div class=\"sk-container\" hidden><div class=\"sk-item sk-dashed-wrapped\"><div class=\"sk-label-container\"><div class=\"sk-label sk-toggleable\"><input class=\"sk-toggleable__control sk-hidden--visually\" id=\"sk-estimator-id-2\" type=\"checkbox\" ><label for=\"sk-estimator-id-2\" class=\"sk-toggleable__label sk-toggleable__label-arrow\">GridSearchCV</label><div class=\"sk-toggleable__content\"><pre>GridSearchCV(cv=5, estimator=RandomForestClassifier(),\n",
       "             param_grid={&#x27;max_depth&#x27;: [None, 10, 20],\n",
       "                         &#x27;n_estimators&#x27;: [50, 100, 200]})</pre></div></div></div><div class=\"sk-parallel\"><div class=\"sk-parallel-item\"><div class=\"sk-item\"><div class=\"sk-label-container\"><div class=\"sk-label sk-toggleable\"><input class=\"sk-toggleable__control sk-hidden--visually\" id=\"sk-estimator-id-3\" type=\"checkbox\" ><label for=\"sk-estimator-id-3\" class=\"sk-toggleable__label sk-toggleable__label-arrow\">estimator: RandomForestClassifier</label><div class=\"sk-toggleable__content\"><pre>RandomForestClassifier()</pre></div></div></div><div class=\"sk-serial\"><div class=\"sk-item\"><div class=\"sk-estimator sk-toggleable\"><input class=\"sk-toggleable__control sk-hidden--visually\" id=\"sk-estimator-id-4\" type=\"checkbox\" ><label for=\"sk-estimator-id-4\" class=\"sk-toggleable__label sk-toggleable__label-arrow\">RandomForestClassifier</label><div class=\"sk-toggleable__content\"><pre>RandomForestClassifier()</pre></div></div></div></div></div></div></div></div></div></div>"
      ],
      "text/plain": [
       "GridSearchCV(cv=5, estimator=RandomForestClassifier(),\n",
       "             param_grid={'max_depth': [None, 10, 20],\n",
       "                         'n_estimators': [50, 100, 200]})"
      ]
     },
     "execution_count": 37,
     "metadata": {},
     "output_type": "execute_result"
    }
   ],
   "source": [
    "from sklearn.model_selection import GridSearchCV\n",
    "\n",
    "param_grid = {'n_estimators': [50, 100, 200], 'max_depth': [None, 10, 20]}\n",
    "grid_search = GridSearchCV(model, param_grid, cv=5)\n",
    "grid_search.fit(X_train, y_train)"
   ]
  },
  {
   "cell_type": "code",
   "execution_count": null,
   "metadata": {
    "colab": {
     "base_uri": "https://localhost:8080/"
    },
    "id": "PuBiIogh9YQR",
    "outputId": "04921668-6e5e-45c3-ea1a-b14c896eddd5"
   },
   "outputs": [
    {
     "name": "stdout",
     "output_type": "stream",
     "text": [
      "Best Parameters: {'max_depth': 10, 'n_estimators': 50}\n"
     ]
    }
   ],
   "source": [
    "best_model = grid_search.best_estimator_\n",
    "best_params = grid_search.best_params_\n",
    "\n",
    "print(f\"Best Parameters: {best_params}\")"
   ]
  },
  {
   "cell_type": "code",
   "execution_count": null,
   "metadata": {
    "id": "EJEJZUoU9530"
   },
   "outputs": [],
   "source": [
    "y_pred = best_model.predict(X_test)"
   ]
  },
  {
   "cell_type": "code",
   "execution_count": null,
   "metadata": {
    "id": "TmD6WlKZ97tI"
   },
   "outputs": [],
   "source": [
    "accuracy = accuracy_score(y_test, y_pred)\n",
    "conf_matrix = confusion_matrix(y_test, y_pred)"
   ]
  },
  {
   "cell_type": "code",
   "execution_count": null,
   "metadata": {
    "colab": {
     "base_uri": "https://localhost:8080/"
    },
    "id": "c164JNaR-EzQ",
    "outputId": "eb2ea29e-2b97-4b8f-c608-662f2f02153f"
   },
   "outputs": [
    {
     "name": "stdout",
     "output_type": "stream",
     "text": [
      "Accuracy: 0.8241678726483358\n",
      "Confusion Matrix:\n",
      "[[  0   3   0   0]\n",
      " [  0 984  16   0]\n",
      " [  0 224  86   0]\n",
      " [  0   0   0  69]]\n"
     ]
    }
   ],
   "source": [
    "print(f\"Accuracy: {accuracy}\")\n",
    "print(f\"Confusion Matrix:\\n{conf_matrix}\")"
   ]
  }
 ],
 "metadata": {
  "colab": {
   "provenance": []
  },
  "kernelspec": {
   "display_name": "Python 3 (ipykernel)",
   "language": "python",
   "name": "python3"
  },
  "language_info": {
   "codemirror_mode": {
    "name": "ipython",
    "version": 3
   },
   "file_extension": ".py",
   "mimetype": "text/x-python",
   "name": "python",
   "nbconvert_exporter": "python",
   "pygments_lexer": "ipython3",
   "version": "3.9.12"
  },
  "vscode": {
   "interpreter": {
    "hash": "aee8b7b246df8f9039afb4144a1f6fd8d2ca17a180786b69acc140d282b71a49"
   }
  }
 },
 "nbformat": 4,
 "nbformat_minor": 1
}
